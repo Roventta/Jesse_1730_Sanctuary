{
 "cells": [
  {
   "cell_type": "markdown",
   "metadata": {},
   "source": [
    "## **Trapezoid Rule**\n",
    "\n",
    "use Trapezoid Rule to find the definite integral of y = x^3\n",
    "\n",
    "## **solution's logic**\n",
    "\n",
    "approximate_integral(lower, upper, nterms), lower means the lower bound of the definite integral, upper means the upper bounds. nterms means the number of trapezoids used in calculation. For example, approximate_integral(0, 2, 2) means doing intergraion from x=0 to x=2, the intergration is approximated by 2 equal height trapzoids, each spanns from x in [0,1] and x in [1,2]\n",
    "\n",
    "The area function of a trapzoid is calculated by ((upper width + lower width) * height / 2)"
   ]
  },
  {
   "cell_type": "code",
   "execution_count": 13,
   "metadata": {},
   "outputs": [],
   "source": [
    "def approximate_integral(lower, upper, n):\n",
    "    ## loop fron 0th trapzoid to n-1 th trapzoid\n",
    "    ## each trapzoid's starting x and ending x is calculated by\n",
    "    ## lower + n* height and lower + (n+1)*height\n",
    "    height = (upper - lower)/n\n",
    "    sum = 0\n",
    "    for i in range(0,n):\n",
    "        x_start = lower+i*height\n",
    "        x_end = lower+i*height+height\n",
    "        top = x_start ** 3\n",
    "        bot = x_end ** 3\n",
    "        area = (top+bot)*height/2\n",
    "        sum+=area\n",
    "    return sum"
   ]
  },
  {
   "cell_type": "code",
   "execution_count": 14,
   "metadata": {},
   "outputs": [
    {
     "name": "stdout",
     "output_type": "stream",
     "text": [
      "5.0\n"
     ]
    }
   ],
   "source": [
    "## tests\n",
    "\n",
    "print(approximate_integral(0,2,2)) # should return 5"
   ]
  }
 ],
 "metadata": {
  "kernelspec": {
   "display_name": "Python 3",
   "language": "python",
   "name": "python3"
  },
  "language_info": {
   "codemirror_mode": {
    "name": "ipython",
    "version": 3
   },
   "file_extension": ".py",
   "mimetype": "text/x-python",
   "name": "python",
   "nbconvert_exporter": "python",
   "pygments_lexer": "ipython3",
   "version": "3.8.10"
  }
 },
 "nbformat": 4,
 "nbformat_minor": 2
}
