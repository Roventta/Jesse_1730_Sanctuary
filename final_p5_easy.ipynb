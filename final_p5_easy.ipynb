{
 "cells": [
  {
   "cell_type": "markdown",
   "metadata": {},
   "source": [
    "## **Remove**\n",
    "\n",
    "remove_all(a_list, element), remove every appearance of it from a_list. Try solve it by uslef, can't be more simple"
   ]
  }
 ],
 "metadata": {
  "language_info": {
   "name": "python"
  }
 },
 "nbformat": 4,
 "nbformat_minor": 2
}
