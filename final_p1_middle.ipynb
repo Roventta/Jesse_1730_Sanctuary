{
 "cells": [
  {
   "cell_type": "markdown",
   "metadata": {},
   "source": [
    "### **super increasing**\n",
    "Varify that every element in the sequence is greater than the sum of its preceeding numbers in the sequence. \n",
    "\n",
    "#### **solution's logic**:\n",
    "First formulate the logic of checking one element in the sequence satisfy the above requirement, then apply the logic to every element.\n",
    "\n",
    "#### **side quote**\n",
    "Have opptimization opportunity by saving the sum to another array, don't try implement this at exam."
   ]
  },
  {
   "cell_type": "code",
   "execution_count": 5,
   "metadata": {},
   "outputs": [],
   "source": [
    "def super_increasing(seq):\n",
    "    ## this application needs to index elements before an element, \n",
    "    ##it's best to for loop on range, instead of for loop on element\n",
    "    for i in range(0, len(seq)):\n",
    "        ## temp register for recording preceeding sums\n",
    "        ## !!! important, declare sum here, so its unique to each i !!!\n",
    "        sum = 0\n",
    "        for j in range(0, i):\n",
    "            sum += seq[j]\n",
    "        ## edge case: if i==0, meaning no preceeding sums, yet seq[0] could be negative, causing sum=0 to be greater than it\n",
    "        ## cover this by skip the check \n",
    "        if(i==0):\n",
    "            continue\n",
    "        ## after get the preceeding sum, check seq[i] satisfies the requirement\n",
    "        ## if not satisfies, directly return, function suicides\n",
    "        ## if satisfies, resume the loop\n",
    "        if(sum > seq[i]):\n",
    "            return False\n",
    "    ## if the loop finishes from 0 to len(seq), means that every element\n",
    "    ## satisfy the requirement, return true\n",
    "    return True\n"
   ]
  },
  {
   "cell_type": "code",
   "execution_count": 6,
   "metadata": {},
   "outputs": [
    {
     "name": "stdout",
     "output_type": "stream",
     "text": [
      "True\n",
      "True\n",
      "False\n"
     ]
    }
   ],
   "source": [
    "## tests\n",
    "\n",
    "print(super_increasing([1,3,5,11,21])) ## should print ture\n",
    "print(super_increasing([-2, 1, 2])) ## should print ture\n",
    "print(super_increasing([1,3,5,7,19])) ## should print false\n"
   ]
  }
 ],
 "metadata": {
  "kernelspec": {
   "display_name": "Python 3",
   "language": "python",
   "name": "python3"
  },
  "language_info": {
   "codemirror_mode": {
    "name": "ipython",
    "version": 3
   },
   "file_extension": ".py",
   "mimetype": "text/x-python",
   "name": "python",
   "nbconvert_exporter": "python",
   "pygments_lexer": "ipython3",
   "version": "3.8.10"
  }
 },
 "nbformat": 4,
 "nbformat_minor": 2
}
