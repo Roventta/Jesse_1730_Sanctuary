{
 "cells": [
  {
   "cell_type": "markdown",
   "metadata": {},
   "source": [
    "## **interferenced Intervals**\n",
    "\n",
    "Simple Math problem, try figue it u self"
   ]
  }
 ],
 "metadata": {
  "language_info": {
   "name": "python"
  }
 },
 "nbformat": 4,
 "nbformat_minor": 2
}
