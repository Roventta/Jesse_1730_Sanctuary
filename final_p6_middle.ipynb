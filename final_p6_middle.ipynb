{
 "cells": [
  {
   "cell_type": "markdown",
   "metadata": {},
   "source": [
    "## **Moving Average**\n",
    "\n",
    "Given A sequence and a window size, return a nother sequence, which contains the average of each winow in the sequence\n",
    "\n",
    "## **Logic**\n",
    "\n",
    "Easy problem, quite challenging in understanding the wording and description.\n",
    "\n",
    "If S = [2,0,-2,2], w=2, three windows are then specified, [2,0], [0,-2], [-2,2]"
   ]
  },
  {
   "cell_type": "code",
   "execution_count": 5,
   "metadata": {},
   "outputs": [],
   "source": [
    "def moving_average(seq, wsize):\n",
    "    ## require indexing elements by indexes, use range based for loop\n",
    "    out = []\n",
    "    \n",
    "    ## think, why len(seq)-1? its the same story from kmer()!!!\n",
    "    for i in range(0, len(seq)-1):\n",
    "        ## unique sum for each i\n",
    "        sum = 0\n",
    "        ## elements in the window that starts from i,\n",
    "        ## e.g.: i, i+1, i+2 ... i+wsize-2, i+wsize-1\n",
    "        for window_i in range(i, i+wsize):\n",
    "            sum += seq[window_i]\n",
    "        ## insert the average \n",
    "        out.append(sum/wsize)\n",
    "    return out"
   ]
  },
  {
   "cell_type": "code",
   "execution_count": 6,
   "metadata": {},
   "outputs": [
    {
     "name": "stdout",
     "output_type": "stream",
     "text": [
      "[1.0, -1.0, 0.0]\n"
     ]
    }
   ],
   "source": [
    "## tests\n",
    "\n",
    "print(moving_average([2,0,-2,2], 2))"
   ]
  }
 ],
 "metadata": {
  "kernelspec": {
   "display_name": "Python 3",
   "language": "python",
   "name": "python3"
  },
  "language_info": {
   "codemirror_mode": {
    "name": "ipython",
    "version": 3
   },
   "file_extension": ".py",
   "mimetype": "text/x-python",
   "name": "python",
   "nbconvert_exporter": "python",
   "pygments_lexer": "ipython3",
   "version": "3.8.10"
  }
 },
 "nbformat": 4,
 "nbformat_minor": 2
}
